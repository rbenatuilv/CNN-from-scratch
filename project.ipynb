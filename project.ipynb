{
 "cells": [
  {
   "cell_type": "markdown",
   "metadata": {},
   "source": [
    "# Proyecto IMT3120\n",
    "## Implementación de Clasificador de Imágenes desde Cero\n",
    "\n",
    "#### Nombre: Roberto Benatuil Valera\n",
    "\n",
    "Este proyecto tendrá como finalidad implementar una red neuronal convolucional para clasificar imágenes. Se buscará implementar las los tipos de capas necesarias, considerando las convolucionales, de pooling, de reshaping y de activación, así como las funciones mismas de activación y de cálculo de pérdida. Cada capa tendrá sus debidos algoritmos de propagación de señales y de gradiente. \n",
    "\n",
    "Al finalizar el modelo, se entrenará con la colección de imágenes del Canadian Institute For Advanced Research, CIFAR10, con el objetivo de comparar su rendimiento con el estado del arte, y analizar su funcionamiento. En este mismo proceso, se realizarán iteraciones y experimentos con diferentes valores de hiperparámetros, entre ellos la tasa de aprendizaje y el tipo y cantidad de capas, así como su tamaño.\n",
    "\n",
    "### Experimentos a realizar\n",
    "\n",
    "Para probar la CNN, se realizarán algunos experimentos, con el fin de analizar su rendimiento y el efecto que los hiperparámetros producen sobre este. Primero, se variará la cantidad de capas convolucionales, cada una con una capa de activación ReLU, con el fin de medir la variación de rendimiento respecto a la eficiencia o rapidez de ejecución.\n",
    "\n",
    "También, se hará otra serie de experimentos en el que se variará la tasa de aprendizaje, que corresponde al nivel de actualización de los parámetros según su gradiente, por cada iteración. Esto, con el fin de medir la velocidad de convergencia y el comportamiento de la curva de error, para encontrar el punto en el que presenta mayor eficiencia.\n",
    "\n",
    "Por último, se intentará hacer una combinación de los resultados anteriores para encontrar el punto de mayor rendimiento.\n",
    "\n",
    "### Por hacer:\n",
    "\n",
    "<ul>\n",
    "\n",
    "<li> TODO: Implementar backward propagation de todos los tipos de layers </li>\n",
    "<li> TODO: Implementar las funciones de convolución, correlación y max pooling </li>\n",
    "<li> TODO: Implementar los experimentos de manera clara (solo hay un bosquejo)</li>\n",
    "\n",
    "</ul>\n"
   ]
  },
  {
   "cell_type": "markdown",
   "metadata": {},
   "source": [
    "### Archivos relevantes:\n",
    "\n",
    "`activation.py`: aquí se definen las funciones de activación disponibles.\n",
    "\n",
    "`aux_functions.py`: se definen funciones auxiliares, como pooling, correlación y convolución.\n",
    "\n",
    "`loss_functs.py`: se definen las funciones de pérdida.\n",
    "\n",
    "`nn_layers.py`: se definen las clases de capas de la red neuronal.\n",
    "\n",
    "`nn_class.py`: se define la clase principal de la CNN."
   ]
  },
  {
   "cell_type": "markdown",
   "metadata": {},
   "source": [
    "### Implementación y testeo"
   ]
  },
  {
   "cell_type": "code",
   "execution_count": null,
   "metadata": {},
   "outputs": [],
   "source": [
    "from keras.datasets import cifar10\n",
    "\n",
    "\n",
    "(x_train, y_train), (x_test, y_test) = cifar10.load_data()\n"
   ]
  },
  {
   "cell_type": "code",
   "execution_count": null,
   "metadata": {},
   "outputs": [],
   "source": [
    "from nn_class import ConvNeuralNet\n",
    "\n",
    "\n",
    "################## CONFIG EXAMPLE ##################\n",
    "\n",
    "layers = {\n",
    "    'conv': {\n",
    "        'input_shape': (1, 28, 28),\n",
    "        'kernel_size': 3,\n",
    "        'depth': 5\n",
    "    },\n",
    "    'maxpool': {\n",
    "        'kernel_size': 2\n",
    "    },\n",
    "    'activation': {\n",
    "        'activation': 'relu'\n",
    "    }\n",
    "}\n",
    "\n",
    "loss = 'cross_entropy'\n",
    "lr = 0.02\n",
    "\n",
    "################## WORK IN PROGRESS ##################\n",
    "\n",
    "model = ConvNeuralNet(layers, loss, lr)"
   ]
  }
 ],
 "metadata": {
  "language_info": {
   "name": "python"
  }
 },
 "nbformat": 4,
 "nbformat_minor": 2
}
